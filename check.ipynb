{
 "cells": [
  {
   "cell_type": "code",
   "execution_count": 25,
   "id": "784e750f",
   "metadata": {},
   "outputs": [],
   "source": [
    "%matplotlib qt\n",
    "from pathlib import Path\n",
    "import mne\n",
    "import hcp\n",
    "import hcp.preprocessing as preproc"
   ]
  },
  {
   "cell_type": "code",
   "execution_count": null,
   "id": "3d752275",
   "metadata": {},
   "outputs": [
    {
     "name": "stdout",
     "output_type": "stream",
     "text": [
      "reading extended structural processing ...\n",
      "reading RAS freesurfer transform\n",
      "Combining RAS transform and coregistration\n",
      "extracting head model\n",
      "coregistring head model to MNE-HCP coordinates\n"
     ]
    },
    {
     "ename": "FileExistsError",
     "evalue": "Destination file exists. Please use option \"overwrite=True\" to force overwriting.",
     "output_type": "error",
     "traceback": [
      "\u001b[0;31m---------------------------------------------------------------------------\u001b[0m",
      "\u001b[0;31mFileExistsError\u001b[0m                           Traceback (most recent call last)",
      "Cell \u001b[0;32mIn[19], line 35\u001b[0m\n\u001b[1;32m     19\u001b[0m kwargs_unproc \u001b[38;5;241m=\u001b[39m {\n\u001b[1;32m     20\u001b[0m                 \u001b[38;5;124m\"\u001b[39m\u001b[38;5;124msubject\u001b[39m\u001b[38;5;124m\"\u001b[39m: subject,\n\u001b[1;32m     21\u001b[0m                 \u001b[38;5;124m\"\u001b[39m\u001b[38;5;124mrun_index\u001b[39m\u001b[38;5;124m\"\u001b[39m: \u001b[38;5;241m1\u001b[39m,\n\u001b[1;32m     22\u001b[0m                 \u001b[38;5;124m\"\u001b[39m\u001b[38;5;124mdata_type\u001b[39m\u001b[38;5;124m\"\u001b[39m: \u001b[38;5;124m\"\u001b[39m\u001b[38;5;124mrest\u001b[39m\u001b[38;5;124m\"\u001b[39m,\n\u001b[1;32m     23\u001b[0m                 \u001b[38;5;124m\"\u001b[39m\u001b[38;5;124mhcp_path\u001b[39m\u001b[38;5;124m\"\u001b[39m: hcp_path \u001b[38;5;241m/\u001b[39m \u001b[38;5;124m\"\u001b[39m\u001b[38;5;124munprocessed\u001b[39m\u001b[38;5;124m\"\u001b[39m\n\u001b[1;32m     24\u001b[0m                 }\n\u001b[1;32m     26\u001b[0m kwargs_proc \u001b[38;5;241m=\u001b[39m {\n\u001b[1;32m     27\u001b[0m                 \u001b[38;5;124m\"\u001b[39m\u001b[38;5;124msubject\u001b[39m\u001b[38;5;124m\"\u001b[39m: subject,\n\u001b[1;32m     28\u001b[0m                 \u001b[38;5;124m\"\u001b[39m\u001b[38;5;124mrun_index\u001b[39m\u001b[38;5;124m\"\u001b[39m: \u001b[38;5;241m1\u001b[39m,\n\u001b[1;32m     29\u001b[0m                 \u001b[38;5;124m\"\u001b[39m\u001b[38;5;124mdata_type\u001b[39m\u001b[38;5;124m\"\u001b[39m: \u001b[38;5;124m\"\u001b[39m\u001b[38;5;124mrest\u001b[39m\u001b[38;5;124m\"\u001b[39m,\n\u001b[1;32m     30\u001b[0m                 \u001b[38;5;124m\"\u001b[39m\u001b[38;5;124mhcp_path\u001b[39m\u001b[38;5;124m\"\u001b[39m: hcp_path \u001b[38;5;241m/\u001b[39m \u001b[38;5;124m\"\u001b[39m\u001b[38;5;124mprocessed\u001b[39m\u001b[38;5;124m\"\u001b[39m\n\u001b[1;32m     31\u001b[0m                 }\n\u001b[0;32m---> 35\u001b[0m \u001b[43mhcp\u001b[49m\u001b[38;5;241;43m.\u001b[39;49m\u001b[43mmake_mne_anatomy\u001b[49m\u001b[43m(\u001b[49m\u001b[43msubject\u001b[49m\u001b[38;5;241;43m=\u001b[39;49m\u001b[43msubject\u001b[49m\u001b[43m,\u001b[49m\n\u001b[1;32m     36\u001b[0m \u001b[43m                    \u001b[49m\u001b[43msubjects_dir\u001b[49m\u001b[38;5;241;43m=\u001b[39;49m\u001b[43mhcp_path\u001b[49m\u001b[43m \u001b[49m\u001b[38;5;241;43m/\u001b[39;49m\u001b[43m \u001b[49m\u001b[38;5;124;43m'\u001b[39;49m\u001b[38;5;124;43msubjects\u001b[39;49m\u001b[38;5;124;43m'\u001b[39;49m\u001b[43m,\u001b[49m\n\u001b[1;32m     37\u001b[0m \u001b[43m                    \u001b[49m\u001b[43mhcp_path\u001b[49m\u001b[38;5;241;43m=\u001b[39;49m\u001b[43mhcp_path\u001b[49m\u001b[43m \u001b[49m\u001b[38;5;241;43m/\u001b[39;49m\u001b[43m \u001b[49m\u001b[38;5;124;43m'\u001b[39;49m\u001b[38;5;124;43mmri\u001b[39;49m\u001b[38;5;124;43m'\u001b[39;49m\u001b[43m,\u001b[49m\n\u001b[1;32m     38\u001b[0m \u001b[43m                    \u001b[49m\u001b[43mrecordings_path\u001b[49m\u001b[38;5;241;43m=\u001b[39;49m\u001b[43mhcp_path\u001b[49m\u001b[43m \u001b[49m\u001b[38;5;241;43m/\u001b[39;49m\u001b[43m \u001b[49m\u001b[38;5;124;43m'\u001b[39;49m\u001b[38;5;124;43mtrans\u001b[39;49m\u001b[38;5;124;43m'\u001b[39;49m\n\u001b[1;32m     39\u001b[0m \u001b[43m                    \u001b[49m\u001b[43m)\u001b[49m\n\u001b[1;32m     41\u001b[0m \u001b[38;5;66;03m## read info from unprocessed one\u001b[39;00m\n\u001b[1;32m     42\u001b[0m info \u001b[38;5;241m=\u001b[39m hcp\u001b[38;5;241m.\u001b[39mread_info(\u001b[38;5;241m*\u001b[39m\u001b[38;5;241m*\u001b[39mkwargs_unproc)\n",
      "File \u001b[0;32m~/GL_HCP/venv/lib/python3.10/site-packages/hcp/anatomy.py:127\u001b[0m, in \u001b[0;36mmake_mne_anatomy\u001b[0;34m(subject, subjects_dir, recordings_path, hcp_path, outputs)\u001b[0m\n\u001b[1;32m    125\u001b[0m \u001b[38;5;28;01mif\u001b[39;00m \u001b[38;5;129;01mnot\u001b[39;00m op\u001b[38;5;241m.\u001b[39mexists(op\u001b[38;5;241m.\u001b[39mdirname(tri_fname)):\n\u001b[1;32m    126\u001b[0m     os\u001b[38;5;241m.\u001b[39mmakedirs(op\u001b[38;5;241m.\u001b[39mdirname(tri_fname))\n\u001b[0;32m--> 127\u001b[0m \u001b[43mwrite_surface\u001b[49m\u001b[43m(\u001b[49m\u001b[43mtri_fname\u001b[49m\u001b[43m,\u001b[49m\u001b[43m \u001b[49m\u001b[43mpnts\u001b[49m\u001b[43m,\u001b[49m\u001b[43m \u001b[49m\u001b[43mfaces\u001b[49m\u001b[43m)\u001b[49m\n\u001b[1;32m    129\u001b[0m \u001b[38;5;66;03m# Step 2 #################################################################\u001b[39;00m\n\u001b[1;32m    130\u001b[0m \u001b[38;5;66;03m# write corresponding device to MRI transform\u001b[39;00m\n\u001b[1;32m    132\u001b[0m logger\u001b[38;5;241m.\u001b[39minfo(\u001b[38;5;124m'\u001b[39m\u001b[38;5;124mextracting coregistration\u001b[39m\u001b[38;5;124m'\u001b[39m)\n",
      "File \u001b[0;32m<decorator-gen-28>:12\u001b[0m, in \u001b[0;36mwrite_surface\u001b[0;34m(fname, coords, faces, create_stamp, volume_info, file_format, overwrite, verbose)\u001b[0m\n",
      "File \u001b[0;32m~/GL_HCP/venv/lib/python3.10/site-packages/mne/surface.py:1361\u001b[0m, in \u001b[0;36mwrite_surface\u001b[0;34m(fname, coords, faces, create_stamp, volume_info, file_format, overwrite, verbose)\u001b[0m\n\u001b[1;32m   1303\u001b[0m \u001b[38;5;129m@verbose\u001b[39m\n\u001b[1;32m   1304\u001b[0m \u001b[38;5;28;01mdef\u001b[39;00m\u001b[38;5;250m \u001b[39m\u001b[38;5;21mwrite_surface\u001b[39m(\n\u001b[1;32m   1305\u001b[0m     fname,\n\u001b[0;32m   (...)\u001b[0m\n\u001b[1;32m   1313\u001b[0m     verbose\u001b[38;5;241m=\u001b[39m\u001b[38;5;28;01mNone\u001b[39;00m,\n\u001b[1;32m   1314\u001b[0m ):\n\u001b[1;32m   1315\u001b[0m \u001b[38;5;250m    \u001b[39m\u001b[38;5;124;03m\"\"\"Write a triangular Freesurfer surface mesh.\u001b[39;00m\n\u001b[1;32m   1316\u001b[0m \n\u001b[1;32m   1317\u001b[0m \u001b[38;5;124;03m    Accepts the same data format as is returned by read_surface().\u001b[39;00m\n\u001b[0;32m   (...)\u001b[0m\n\u001b[1;32m   1359\u001b[0m \u001b[38;5;124;03m    read_tri\u001b[39;00m\n\u001b[1;32m   1360\u001b[0m \u001b[38;5;124;03m    \"\"\"\u001b[39;00m\n\u001b[0;32m-> 1361\u001b[0m     fname \u001b[38;5;241m=\u001b[39m \u001b[43m_check_fname\u001b[49m\u001b[43m(\u001b[49m\u001b[43mfname\u001b[49m\u001b[43m,\u001b[49m\u001b[43m \u001b[49m\u001b[43moverwrite\u001b[49m\u001b[38;5;241;43m=\u001b[39;49m\u001b[43moverwrite\u001b[49m\u001b[43m)\u001b[49m\n\u001b[1;32m   1362\u001b[0m     _check_option(\u001b[38;5;124m\"\u001b[39m\u001b[38;5;124mfile_format\u001b[39m\u001b[38;5;124m\"\u001b[39m, file_format, [\u001b[38;5;124m\"\u001b[39m\u001b[38;5;124mauto\u001b[39m\u001b[38;5;124m\"\u001b[39m, \u001b[38;5;124m\"\u001b[39m\u001b[38;5;124mfreesurfer\u001b[39m\u001b[38;5;124m\"\u001b[39m, \u001b[38;5;124m\"\u001b[39m\u001b[38;5;124mobj\u001b[39m\u001b[38;5;124m\"\u001b[39m])\n\u001b[1;32m   1364\u001b[0m     \u001b[38;5;28;01mif\u001b[39;00m file_format \u001b[38;5;241m==\u001b[39m \u001b[38;5;124m\"\u001b[39m\u001b[38;5;124mauto\u001b[39m\u001b[38;5;124m\"\u001b[39m:\n",
      "File \u001b[0;32m<decorator-gen-0>:12\u001b[0m, in \u001b[0;36m_check_fname\u001b[0;34m(fname, overwrite, must_exist, name, need_dir, check_bids_split, verbose)\u001b[0m\n",
      "File \u001b[0;32m~/GL_HCP/venv/lib/python3.10/site-packages/mne/utils/check.py:282\u001b[0m, in \u001b[0;36m_check_fname\u001b[0;34m(fname, overwrite, must_exist, name, need_dir, check_bids_split, verbose)\u001b[0m\n\u001b[1;32m    280\u001b[0m \u001b[38;5;28;01mif\u001b[39;00m fname\u001b[38;5;241m.\u001b[39mexists():\n\u001b[1;32m    281\u001b[0m     \u001b[38;5;28;01mif\u001b[39;00m \u001b[38;5;129;01mnot\u001b[39;00m overwrite:\n\u001b[0;32m--> 282\u001b[0m         \u001b[38;5;28;01mraise\u001b[39;00m \u001b[38;5;167;01mFileExistsError\u001b[39;00m(\n\u001b[1;32m    283\u001b[0m             \u001b[38;5;124m\"\u001b[39m\u001b[38;5;124mDestination file exists. Please use option \u001b[39m\u001b[38;5;124m\"\u001b[39m\n\u001b[1;32m    284\u001b[0m             \u001b[38;5;124m'\u001b[39m\u001b[38;5;124m\"\u001b[39m\u001b[38;5;124moverwrite=True\u001b[39m\u001b[38;5;124m\"\u001b[39m\u001b[38;5;124m to force overwriting.\u001b[39m\u001b[38;5;124m'\u001b[39m\n\u001b[1;32m    285\u001b[0m         )\n\u001b[1;32m    286\u001b[0m     \u001b[38;5;28;01melif\u001b[39;00m overwrite \u001b[38;5;241m!=\u001b[39m \u001b[38;5;124m\"\u001b[39m\u001b[38;5;124mread\u001b[39m\u001b[38;5;124m\"\u001b[39m:\n\u001b[1;32m    287\u001b[0m         logger\u001b[38;5;241m.\u001b[39minfo(\u001b[38;5;124m\"\u001b[39m\u001b[38;5;124mOverwriting existing file.\u001b[39m\u001b[38;5;124m\"\u001b[39m)\n",
      "\u001b[0;31mFileExistsError\u001b[0m: Destination file exists. Please use option \"overwrite=True\" to force overwriting."
     ]
    }
   ],
   "source": [
    "## 1. dl the MEG anatomy folder\n",
    "## 2. dl the structural extended preprocess\n",
    "## 3. dl the processed MEG \n",
    "## 4. dl the unprocessed MEG\n",
    "\n",
    "## create folder structure\n",
    "## 1. create trans folder if its not there and make it writable\n",
    "## 2. check if I have MRI folder\n",
    "## 3. per subject move T1w folder from struc ext preprocess to MEG/anatomy folder \n",
    "## 4. run hcp.make_mne_anatomy to create subjects_dir\n",
    "\n",
    "subject = '100307'\n",
    "run_index = 1\n",
    "data_type = 'rest'\n",
    "hcp_path = Path('/Volumes/Extreme_SSD/payam_data/hcp')\n",
    "hcp_path_proc = hcp_path / 'processed'\n",
    "hcp_path_unproc = hcp_path / 'unprocessed'\n",
    "\n",
    "kwargs_unproc = {\n",
    "                \"subject\": subject,\n",
    "                \"run_index\": 1,\n",
    "                \"data_type\": \"rest\",\n",
    "                \"hcp_path\": hcp_path / \"unprocessed\"\n",
    "                }\n",
    "\n",
    "kwargs_proc = {\n",
    "                \"subject\": subject,\n",
    "                \"run_index\": 1,\n",
    "                \"data_type\": \"rest\",\n",
    "                \"hcp_path\": hcp_path / \"processed\"\n",
    "                }\n",
    "\n",
    "# create subjects_dir\n",
    "hcp.make_mne_anatomy(subject=subject,\n",
    "                    subjects_dir=hcp_path / 'subjects',\n",
    "                    hcp_path=hcp_path / 'mri',\n",
    "                    recordings_path=hcp_path / 'trans'\n",
    "                    )\n",
    "\n",
    "## read necessary information\n",
    "info = hcp.read_info(**kwargs_unproc)\n",
    "annots = hcp.read_annot(**kwargs_proc)\n",
    "ica = hcp.read_ica(**kwargs_proc)\n",
    "raw = hcp.read_raw(**kwargs_unproc)\n",
    "raw.load_data()\n",
    "\n",
    "## preprocess\n",
    "preproc.apply_ref_correction(raw)\n",
    "\n",
    "bad_seg = (annots['segments']['all']) / raw.info['sfreq']\n",
    "annotations = mne.Annotations(\n",
    "                                bad_seg[:, 0], (bad_seg[:, 1] - bad_seg[:, 0]),\n",
    "                                description='bad'\n",
    "                                )\n",
    "raw.annotations = annotations\n",
    "raw.info['bads'].extend(annots['channels']['all'])\n",
    "raw.pick_types(meg=True, ref_meg=False)\n",
    "\n",
    "## filter\n",
    "# l_freq, h_freq = \n",
    "raw.filter(l_freq, h_freq, method='iir', iir_params=dict(order=4, ftype='butter'), n_jobs=1, verbose=False)\n",
    "\n",
    "## ica\n",
    "exclude = [ii for ii in range(annots['ica']['total_ic_number'][0]) if ii not in annots['ica']['brain_ic_vs']]\n",
    "preproc.apply_ica_hcp(raw, ica_mat=ica, exclude=exclude)\n",
    "\n",
    "## setup source space"
   ]
  }
 ],
 "metadata": {
  "kernelspec": {
   "display_name": "venv",
   "language": "python",
   "name": "python3"
  },
  "language_info": {
   "codemirror_mode": {
    "name": "ipython",
    "version": 3
   },
   "file_extension": ".py",
   "mimetype": "text/x-python",
   "name": "python",
   "nbconvert_exporter": "python",
   "pygments_lexer": "ipython3",
   "version": "3.10.16"
  }
 },
 "nbformat": 4,
 "nbformat_minor": 5
}
