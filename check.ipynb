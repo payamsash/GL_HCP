{
 "cells": [
  {
   "cell_type": "code",
   "execution_count": null,
   "id": "784e750f",
   "metadata": {},
   "outputs": [],
   "source": [
    "%matplotlib qt\n",
    "import os.path as op\n",
    "import hcp\n",
    "import mne"
   ]
  },
  {
   "cell_type": "code",
   "execution_count": null,
   "id": "3d752275",
   "metadata": {},
   "outputs": [],
   "source": [
    "## 1. dl the anatomy folder\n",
    "## 2. dl the structural extended preprocess\n",
    "## 3. per subject move T1w folder from struc ext preprocess to anatomy folder \n",
    "## 4. run hcp.make_mne_anatomy to create subjects_dir\n",
    "\n",
    "subject_id = '100307'\n",
    "run_index = 1\n",
    "hcp_path = op.expanduser('/Volumes/Extreme_SSD/payam_data/hcp')\n",
    "hcp.make_mne_anatomy(subject=subject_id,\n",
    "                    subjects_dir=hcp_path + '/subjects',\n",
    "                    hcp_path=hcp_path + '/mri',\n",
    "                    recordings_path=hcp_path + '/meg'\n",
    "                    )"
   ]
  },
  {
   "cell_type": "code",
   "execution_count": null,
   "id": "e98a6dd2",
   "metadata": {},
   "outputs": [],
   "source": [
    "## set up sensor space\n",
    "files = hcp.file_mapping.get_file_paths(subject=subject_id,\n",
    "                                        data_type='rest',\n",
    "                                        output='raw',\n",
    "                                        hcp_path=hcp_path\n",
    "                                        )\n",
    "raw = hcp.preprocessing.apply_ref_correction(raw)\n",
    "\n",
    "events = hcp.read_trial_info(subject_id,\n",
    "                            data_type='rest',\n",
    "                            run_index=run_index,\n",
    "                            hcp_path=hcp_path\n",
    "                            )\n",
    "\n",
    "## filter\n",
    "\n",
    "annots = hcp.read_annot(subject_id,\n",
    "                        data_type='rest',\n",
    "                        run_index=run_index,\n",
    "                        hcp_path=hcp_path,\n",
    "                        )\n",
    "bad_segments = annots['segments']['all'] / raw.info['sfreq']\n",
    "raw.annotations = mne.Annotations(\n",
    "                                bad_segments[:, 0],\n",
    "                                (bad_segments[:, 1] - bad_segments[:, 0]),\n",
    "                                description='bad'\n",
    "                                )\n",
    "\n",
    "## ICA\n",
    "# hcp.read_annot to get the HCP ICA components"
   ]
  },
  {
   "cell_type": "code",
   "execution_count": null,
   "id": "327e3d11",
   "metadata": {},
   "outputs": [],
   "source": [
    "## setup source space\n"
   ]
  }
 ],
 "metadata": {
  "kernelspec": {
   "display_name": "venv",
   "language": "python",
   "name": "python3"
  },
  "language_info": {
   "codemirror_mode": {
    "name": "ipython",
    "version": 3
   },
   "file_extension": ".py",
   "mimetype": "text/x-python",
   "name": "python",
   "nbconvert_exporter": "python",
   "pygments_lexer": "ipython3",
   "version": "3.10.16"
  }
 },
 "nbformat": 4,
 "nbformat_minor": 5
}
